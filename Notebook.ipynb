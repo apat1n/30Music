{
 "cells": [
  {
   "cell_type": "markdown",
   "metadata": {},
   "source": [
    "## Load and transform data"
   ]
  },
  {
   "cell_type": "markdown",
   "metadata": {},
   "source": [
    "Данные брались с сайта http://recsys.deib.polimi.it/datasets/"
   ]
  },
  {
   "cell_type": "code",
   "execution_count": 1,
   "metadata": {},
   "outputs": [],
   "source": [
    "import os\n",
    "import json\n",
    "import numpy as np\n",
    "import pandas as pd\n",
    "from tqdm import tqdm\n",
    "import seaborn as sns\n",
    "import matplotlib.pyplot as plt\n",
    "from collections import defaultdict\n",
    "from IPython.display import clear_output\n",
    "\n",
    "from scipy.spatial.distance import cosine\n",
    "from sklearn.metrics.pairwise import cosine_similarity, cosine_distances"
   ]
  },
  {
   "cell_type": "code",
   "execution_count": 2,
   "metadata": {},
   "outputs": [],
   "source": [
    "plt.rcParams[\"figure.figsize\"] = (12, 8)"
   ]
  },
  {
   "cell_type": "code",
   "execution_count": 3,
   "metadata": {},
   "outputs": [
    {
     "name": "stdout",
     "output_type": "stream",
     "text": [
      "ThirtyMusic/relations/sessions.idomaar\n",
      "ThirtyMusic/relations/love.idomaar\n",
      "ThirtyMusic/relations/events.idomaar\n",
      "ThirtyMusic/entities/playlist.idomaar\n",
      "ThirtyMusic/entities/users.idomaar\n",
      "ThirtyMusic/entities/tracks.idomaar\n",
      "ThirtyMusic/entities/albums.idomaar\n",
      "ThirtyMusic/entities/tags.idomaar\n",
      "ThirtyMusic/entities/persons.idomaar\n"
     ]
    }
   ],
   "source": [
    "for dirname, _, filenames in os.walk(\"ThirtyMusic\"):\n",
    "    for filename in filenames:\n",
    "        print(os.path.join(dirname, filename))"
   ]
  },
  {
   "cell_type": "code",
   "execution_count": 5,
   "metadata": {},
   "outputs": [
    {
     "data": {
      "text/html": [
       "<div>\n",
       "<style scoped>\n",
       "    .dataframe tbody tr th:only-of-type {\n",
       "        vertical-align: middle;\n",
       "    }\n",
       "\n",
       "    .dataframe tbody tr th {\n",
       "        vertical-align: top;\n",
       "    }\n",
       "\n",
       "    .dataframe thead th {\n",
       "        text-align: right;\n",
       "    }\n",
       "</style>\n",
       "<table border=\"1\" class=\"dataframe\">\n",
       "  <thead>\n",
       "    <tr style=\"text-align: right;\">\n",
       "      <th></th>\n",
       "      <th>type</th>\n",
       "      <th>ID</th>\n",
       "      <th>timestamp</th>\n",
       "      <th>properties</th>\n",
       "      <th>linked-entities</th>\n",
       "    </tr>\n",
       "  </thead>\n",
       "  <tbody>\n",
       "    <tr>\n",
       "      <th>0</th>\n",
       "      <td>person</td>\n",
       "      <td>145148</td>\n",
       "      <td>-1</td>\n",
       "      <td>{\"MBID\":null, \"name\":\"Everything+Is+Illuminated\"}</td>\n",
       "      <td>{}</td>\n",
       "    </tr>\n",
       "    <tr>\n",
       "      <th>1</th>\n",
       "      <td>person</td>\n",
       "      <td>297899</td>\n",
       "      <td>-1</td>\n",
       "      <td>{\"MBID\":null, \"name\":\"Robin+O%27Brien\"}</td>\n",
       "      <td>{}</td>\n",
       "    </tr>\n",
       "    <tr>\n",
       "      <th>2</th>\n",
       "      <td>person</td>\n",
       "      <td>250429</td>\n",
       "      <td>-1</td>\n",
       "      <td>{\"MBID\":null, \"name\":\"Nicholas+Gunn++(2012)\"}</td>\n",
       "      <td>{}</td>\n",
       "    </tr>\n",
       "    <tr>\n",
       "      <th>3</th>\n",
       "      <td>person</td>\n",
       "      <td>32765</td>\n",
       "      <td>-1</td>\n",
       "      <td>{\"MBID\":null, \"name\":\"Aspasia+Stratigou\"}</td>\n",
       "      <td>{}</td>\n",
       "    </tr>\n",
       "    <tr>\n",
       "      <th>4</th>\n",
       "      <td>person</td>\n",
       "      <td>18689</td>\n",
       "      <td>-1</td>\n",
       "      <td>{\"MBID\":null, \"name\":\"Allison+Veltz\"}</td>\n",
       "      <td>{}</td>\n",
       "    </tr>\n",
       "  </tbody>\n",
       "</table>\n",
       "</div>"
      ],
      "text/plain": [
       "     type      ID  timestamp  \\\n",
       "0  person  145148         -1   \n",
       "1  person  297899         -1   \n",
       "2  person  250429         -1   \n",
       "3  person   32765         -1   \n",
       "4  person   18689         -1   \n",
       "\n",
       "                                          properties linked-entities  \n",
       "0  {\"MBID\":null, \"name\":\"Everything+Is+Illuminated\"}              {}  \n",
       "1            {\"MBID\":null, \"name\":\"Robin+O%27Brien\"}              {}  \n",
       "2      {\"MBID\":null, \"name\":\"Nicholas+Gunn++(2012)\"}              {}  \n",
       "3          {\"MBID\":null, \"name\":\"Aspasia+Stratigou\"}              {}  \n",
       "4              {\"MBID\":null, \"name\":\"Allison+Veltz\"}              {}  "
      ]
     },
     "execution_count": 5,
     "metadata": {},
     "output_type": "execute_result"
    }
   ],
   "source": [
    "colnames = [\"type\", \"ID\", \"timestamp\", \"properties\", \"linked-entities\"]\n",
    "persons_df = pd.read_csv(\n",
    "    \"ThirtyMusic/entities/persons.idomaar\", sep=\"\\t\", header=None, names=colnames\n",
    ")\n",
    "persons_df.head()"
   ]
  },
  {
   "cell_type": "code",
   "execution_count": 6,
   "metadata": {
    "scrolled": true
   },
   "outputs": [
    {
     "data": {
      "text/html": [
       "<div>\n",
       "<style scoped>\n",
       "    .dataframe tbody tr th:only-of-type {\n",
       "        vertical-align: middle;\n",
       "    }\n",
       "\n",
       "    .dataframe tbody tr th {\n",
       "        vertical-align: top;\n",
       "    }\n",
       "\n",
       "    .dataframe thead th {\n",
       "        text-align: right;\n",
       "    }\n",
       "</style>\n",
       "<table border=\"1\" class=\"dataframe\">\n",
       "  <thead>\n",
       "    <tr style=\"text-align: right;\">\n",
       "      <th></th>\n",
       "      <th>type</th>\n",
       "      <th>ID</th>\n",
       "      <th>timestamp</th>\n",
       "      <th>properties</th>\n",
       "      <th>linked-entities</th>\n",
       "    </tr>\n",
       "  </thead>\n",
       "  <tbody>\n",
       "    <tr>\n",
       "      <th>0</th>\n",
       "      <td>track</td>\n",
       "      <td>0</td>\n",
       "      <td>-1</td>\n",
       "      <td>{\"duration\":-1,\"playcount\":4,\"MBID\":null,\"name...</td>\n",
       "      <td>{\"artists\":[{\"type\":\"person\",\"id\":0}],\"albums\"...</td>\n",
       "    </tr>\n",
       "    <tr>\n",
       "      <th>1</th>\n",
       "      <td>track</td>\n",
       "      <td>1</td>\n",
       "      <td>-1</td>\n",
       "      <td>{\"duration\":-1,\"playcount\":495,\"MBID\":null,\"na...</td>\n",
       "      <td>{\"artists\":[{\"type\":\"person\",\"id\":1}],\"albums\"...</td>\n",
       "    </tr>\n",
       "    <tr>\n",
       "      <th>2</th>\n",
       "      <td>track</td>\n",
       "      <td>2</td>\n",
       "      <td>-1</td>\n",
       "      <td>{\"duration\":-1,\"playcount\":2,\"MBID\":null,\"name...</td>\n",
       "      <td>{\"artists\":[{\"type\":\"person\",\"id\":2}],\"albums\"...</td>\n",
       "    </tr>\n",
       "    <tr>\n",
       "      <th>3</th>\n",
       "      <td>track</td>\n",
       "      <td>3</td>\n",
       "      <td>-1</td>\n",
       "      <td>{\"duration\":-1,\"playcount\":2,\"MBID\":null,\"name...</td>\n",
       "      <td>{\"artists\":[{\"type\":\"person\",\"id\":3}],\"albums\"...</td>\n",
       "    </tr>\n",
       "    <tr>\n",
       "      <th>4</th>\n",
       "      <td>track</td>\n",
       "      <td>4</td>\n",
       "      <td>-1</td>\n",
       "      <td>{\"duration\":-1,\"playcount\":1,\"MBID\":null,\"name...</td>\n",
       "      <td>{\"artists\":[{\"type\":\"person\",\"id\":4}],\"albums\"...</td>\n",
       "    </tr>\n",
       "  </tbody>\n",
       "</table>\n",
       "</div>"
      ],
      "text/plain": [
       "    type  ID  timestamp                                         properties  \\\n",
       "0  track   0         -1  {\"duration\":-1,\"playcount\":4,\"MBID\":null,\"name...   \n",
       "1  track   1         -1  {\"duration\":-1,\"playcount\":495,\"MBID\":null,\"na...   \n",
       "2  track   2         -1  {\"duration\":-1,\"playcount\":2,\"MBID\":null,\"name...   \n",
       "3  track   3         -1  {\"duration\":-1,\"playcount\":2,\"MBID\":null,\"name...   \n",
       "4  track   4         -1  {\"duration\":-1,\"playcount\":1,\"MBID\":null,\"name...   \n",
       "\n",
       "                                     linked-entities  \n",
       "0  {\"artists\":[{\"type\":\"person\",\"id\":0}],\"albums\"...  \n",
       "1  {\"artists\":[{\"type\":\"person\",\"id\":1}],\"albums\"...  \n",
       "2  {\"artists\":[{\"type\":\"person\",\"id\":2}],\"albums\"...  \n",
       "3  {\"artists\":[{\"type\":\"person\",\"id\":3}],\"albums\"...  \n",
       "4  {\"artists\":[{\"type\":\"person\",\"id\":4}],\"albums\"...  "
      ]
     },
     "execution_count": 6,
     "metadata": {},
     "output_type": "execute_result"
    }
   ],
   "source": [
    "tracks_df = pd.read_csv(\n",
    "    \"ThirtyMusic/entities/tracks.idomaar\", sep=\"\\t\",\n",
    "    header=None, names=colnames\n",
    ").drop_duplicates()\n",
    "tracks_df.head()"
   ]
  },
  {
   "cell_type": "code",
   "execution_count": 7,
   "metadata": {},
   "outputs": [
    {
     "name": "stderr",
     "output_type": "stream",
     "text": [
      "100%|██████████| 4544646/4544646 [00:14<00:00, 312285.42it/s]\n"
     ]
    }
   ],
   "source": [
    "track_ids = tracks_df[\"ID\"].values\n",
    "artist_ids = []\n",
    "for row in tqdm(tracks_df[\"linked-entities\"]):\n",
    "    artist_ids.append(json.loads(row)[\"artists\"][0][\"id\"])"
   ]
  },
  {
   "cell_type": "code",
   "execution_count": 8,
   "metadata": {},
   "outputs": [
    {
     "data": {
      "text/html": [
       "<div>\n",
       "<style scoped>\n",
       "    .dataframe tbody tr th:only-of-type {\n",
       "        vertical-align: middle;\n",
       "    }\n",
       "\n",
       "    .dataframe tbody tr th {\n",
       "        vertical-align: top;\n",
       "    }\n",
       "\n",
       "    .dataframe thead th {\n",
       "        text-align: right;\n",
       "    }\n",
       "</style>\n",
       "<table border=\"1\" class=\"dataframe\">\n",
       "  <thead>\n",
       "    <tr style=\"text-align: right;\">\n",
       "      <th></th>\n",
       "      <th>track_id</th>\n",
       "      <th>artist_id</th>\n",
       "    </tr>\n",
       "  </thead>\n",
       "  <tbody>\n",
       "    <tr>\n",
       "      <th>0</th>\n",
       "      <td>0</td>\n",
       "      <td>0</td>\n",
       "    </tr>\n",
       "    <tr>\n",
       "      <th>1</th>\n",
       "      <td>1</td>\n",
       "      <td>1</td>\n",
       "    </tr>\n",
       "    <tr>\n",
       "      <th>2</th>\n",
       "      <td>2</td>\n",
       "      <td>2</td>\n",
       "    </tr>\n",
       "    <tr>\n",
       "      <th>3</th>\n",
       "      <td>3</td>\n",
       "      <td>3</td>\n",
       "    </tr>\n",
       "    <tr>\n",
       "      <th>4</th>\n",
       "      <td>4</td>\n",
       "      <td>4</td>\n",
       "    </tr>\n",
       "  </tbody>\n",
       "</table>\n",
       "</div>"
      ],
      "text/plain": [
       "   track_id  artist_id\n",
       "0         0          0\n",
       "1         1          1\n",
       "2         2          2\n",
       "3         3          3\n",
       "4         4          4"
      ]
     },
     "execution_count": 8,
     "metadata": {},
     "output_type": "execute_result"
    }
   ],
   "source": [
    "track_artist_df = pd.DataFrame({\"track_id\": track_ids, \"artist_id\": artist_ids}).drop_duplicates()\n",
    "track_artist_df.head()"
   ]
  },
  {
   "cell_type": "code",
   "execution_count": 9,
   "metadata": {},
   "outputs": [
    {
     "data": {
      "text/html": [
       "<div>\n",
       "<style scoped>\n",
       "    .dataframe tbody tr th:only-of-type {\n",
       "        vertical-align: middle;\n",
       "    }\n",
       "\n",
       "    .dataframe tbody tr th {\n",
       "        vertical-align: top;\n",
       "    }\n",
       "\n",
       "    .dataframe thead th {\n",
       "        text-align: right;\n",
       "    }\n",
       "</style>\n",
       "<table border=\"1\" class=\"dataframe\">\n",
       "  <thead>\n",
       "    <tr style=\"text-align: right;\">\n",
       "      <th></th>\n",
       "      <th>type</th>\n",
       "      <th>ID</th>\n",
       "      <th>timestamp</th>\n",
       "      <th>properties</th>\n",
       "      <th>linked-entities</th>\n",
       "    </tr>\n",
       "  </thead>\n",
       "  <tbody>\n",
       "    <tr>\n",
       "      <th>0</th>\n",
       "      <td>event.session</td>\n",
       "      <td>287144</td>\n",
       "      <td>1390231051</td>\n",
       "      <td>{\"numtracks\":23,\"playtime\":4547} {\"subjects\":[...</td>\n",
       "      <td>NaN</td>\n",
       "    </tr>\n",
       "    <tr>\n",
       "      <th>1</th>\n",
       "      <td>event.session</td>\n",
       "      <td>287145</td>\n",
       "      <td>1390241844</td>\n",
       "      <td>{\"numtracks\":11,\"playtime\":2907} {\"subjects\":[...</td>\n",
       "      <td>NaN</td>\n",
       "    </tr>\n",
       "    <tr>\n",
       "      <th>2</th>\n",
       "      <td>event.session</td>\n",
       "      <td>287146</td>\n",
       "      <td>1390303249</td>\n",
       "      <td>{\"numtracks\":16,\"playtime\":3191} {\"subjects\":[...</td>\n",
       "      <td>NaN</td>\n",
       "    </tr>\n",
       "    <tr>\n",
       "      <th>3</th>\n",
       "      <td>event.session</td>\n",
       "      <td>287147</td>\n",
       "      <td>1390481828</td>\n",
       "      <td>{\"numtracks\":5,\"playtime\":1162} {\"subjects\":[{...</td>\n",
       "      <td>NaN</td>\n",
       "    </tr>\n",
       "    <tr>\n",
       "      <th>4</th>\n",
       "      <td>event.session</td>\n",
       "      <td>287140</td>\n",
       "      <td>1421443687</td>\n",
       "      <td>{\"numtracks\":2,\"playtime\":250} {\"subjects\":[{\"...</td>\n",
       "      <td>NaN</td>\n",
       "    </tr>\n",
       "  </tbody>\n",
       "</table>\n",
       "</div>"
      ],
      "text/plain": [
       "            type      ID   timestamp  \\\n",
       "0  event.session  287144  1390231051   \n",
       "1  event.session  287145  1390241844   \n",
       "2  event.session  287146  1390303249   \n",
       "3  event.session  287147  1390481828   \n",
       "4  event.session  287140  1421443687   \n",
       "\n",
       "                                          properties  linked-entities  \n",
       "0  {\"numtracks\":23,\"playtime\":4547} {\"subjects\":[...              NaN  \n",
       "1  {\"numtracks\":11,\"playtime\":2907} {\"subjects\":[...              NaN  \n",
       "2  {\"numtracks\":16,\"playtime\":3191} {\"subjects\":[...              NaN  \n",
       "3  {\"numtracks\":5,\"playtime\":1162} {\"subjects\":[{...              NaN  \n",
       "4  {\"numtracks\":2,\"playtime\":250} {\"subjects\":[{\"...              NaN  "
      ]
     },
     "execution_count": 9,
     "metadata": {},
     "output_type": "execute_result"
    }
   ],
   "source": [
    "sessions_df = pd.read_csv(\n",
    "    \"ThirtyMusic/relations/sessions.idomaar\", sep=\"\\t\", header=None,\n",
    "    names=[\"type\", \"ID\", \"timestamp\", \"properties\", \"linked-entities\"]\n",
    ")\n",
    "sessions_df.head()"
   ]
  },
  {
   "cell_type": "code",
   "execution_count": 10,
   "metadata": {
    "scrolled": true
   },
   "outputs": [
    {
     "name": "stderr",
     "output_type": "stream",
     "text": [
      "2764474it [01:40, 27495.58it/s]\n"
     ]
    }
   ],
   "source": [
    "user_session_df = defaultdict(list)\n",
    "user_ids = []\n",
    "track_ids = []\n",
    "timestamps = []\n",
    "for row, timestamp in tqdm(zip(sessions_df[\"properties\"], sessions_df[\"timestamp\"])):\n",
    "    user_id = json.loads(row.split(\" \")[1])[\"subjects\"][0][\"id\"]\n",
    "    for record in json.loads(row.split(\" \")[1])[\"objects\"][:-1]:\n",
    "        user_ids.append(user_id)\n",
    "        track_ids.append(record[\"id\"])\n",
    "        timestamps.append(timestamp + record[\"playstart\"])"
   ]
  },
  {
   "cell_type": "code",
   "execution_count": 11,
   "metadata": {},
   "outputs": [],
   "source": [
    "user_track_history = pd.DataFrame({\n",
    "    \"user_id\": user_ids,\n",
    "    \"track_id\": track_ids,\n",
    "    \"timestamp\": timestamps\n",
    "})"
   ]
  },
  {
   "cell_type": "code",
   "execution_count": 12,
   "metadata": {},
   "outputs": [],
   "source": [
    "user_artist_history = user_track_history \\\n",
    "    .merge(track_artist_df.set_index(\"track_id\"), how=\"left\", on=\"track_id\") \\\n",
    "    .drop(\"track_id\", axis=1)\n",
    "\n",
    "user_artist_history[\"target\"] = [1 for _ in range(len(user_artist_history))]"
   ]
  },
  {
   "cell_type": "code",
   "execution_count": 13,
   "metadata": {},
   "outputs": [
    {
     "data": {
      "text/html": [
       "<div>\n",
       "<style scoped>\n",
       "    .dataframe tbody tr th:only-of-type {\n",
       "        vertical-align: middle;\n",
       "    }\n",
       "\n",
       "    .dataframe tbody tr th {\n",
       "        vertical-align: top;\n",
       "    }\n",
       "\n",
       "    .dataframe thead th {\n",
       "        text-align: right;\n",
       "    }\n",
       "</style>\n",
       "<table border=\"1\" class=\"dataframe\">\n",
       "  <thead>\n",
       "    <tr style=\"text-align: right;\">\n",
       "      <th></th>\n",
       "      <th>user_id</th>\n",
       "      <th>timestamp</th>\n",
       "      <th>artist_id</th>\n",
       "      <th>target</th>\n",
       "    </tr>\n",
       "  </thead>\n",
       "  <tbody>\n",
       "    <tr>\n",
       "      <th>0</th>\n",
       "      <td>44361</td>\n",
       "      <td>1390231051</td>\n",
       "      <td>142266</td>\n",
       "      <td>1</td>\n",
       "    </tr>\n",
       "    <tr>\n",
       "      <th>1</th>\n",
       "      <td>44361</td>\n",
       "      <td>1390231109</td>\n",
       "      <td>107103</td>\n",
       "      <td>1</td>\n",
       "    </tr>\n",
       "    <tr>\n",
       "      <th>2</th>\n",
       "      <td>44361</td>\n",
       "      <td>1390231419</td>\n",
       "      <td>324333</td>\n",
       "      <td>1</td>\n",
       "    </tr>\n",
       "    <tr>\n",
       "      <th>3</th>\n",
       "      <td>44361</td>\n",
       "      <td>1390231598</td>\n",
       "      <td>344448</td>\n",
       "      <td>1</td>\n",
       "    </tr>\n",
       "    <tr>\n",
       "      <th>4</th>\n",
       "      <td>44361</td>\n",
       "      <td>1390231940</td>\n",
       "      <td>309348</td>\n",
       "      <td>1</td>\n",
       "    </tr>\n",
       "  </tbody>\n",
       "</table>\n",
       "</div>"
      ],
      "text/plain": [
       "   user_id   timestamp  artist_id  target\n",
       "0    44361  1390231051     142266       1\n",
       "1    44361  1390231109     107103       1\n",
       "2    44361  1390231419     324333       1\n",
       "3    44361  1390231598     344448       1\n",
       "4    44361  1390231940     309348       1"
      ]
     },
     "execution_count": 13,
     "metadata": {},
     "output_type": "execute_result"
    }
   ],
   "source": [
    "user_artist_history.head()"
   ]
  },
  {
   "cell_type": "markdown",
   "metadata": {},
   "source": [
    "Упростим задачу и оставим только 2000 уникальных user_id"
   ]
  },
  {
   "cell_type": "code",
   "execution_count": 14,
   "metadata": {},
   "outputs": [],
   "source": [
    "user_ids = set(user_artist_history.groupby(\"user_id\") \\\n",
    "                .count().sort_values(\"artist_id\", ascending=False) \\\n",
    "                .head(2000).index)\n"
   ]
  },
  {
   "cell_type": "code",
   "execution_count": 15,
   "metadata": {},
   "outputs": [],
   "source": [
    "user_artist_history = user_artist_history[user_artist_history[\"user_id\"].isin(user_ids)]"
   ]
  },
  {
   "cell_type": "code",
   "execution_count": 16,
   "metadata": {},
   "outputs": [],
   "source": [
    "user_artist_history[\"user_id\"] = user_artist_history[\"user_id\"].map({\n",
    "    artist_id: new_id\n",
    "    for new_id, artist_id in enumerate(user_artist_history[\"user_id\"].unique())\n",
    "})"
   ]
  },
  {
   "cell_type": "markdown",
   "metadata": {},
   "source": [
    "Разобьем на train/val/test как 70/15/15 по таймстемпу"
   ]
  },
  {
   "cell_type": "code",
   "execution_count": 18,
   "metadata": {},
   "outputs": [],
   "source": [
    "val_split_timestamp = int(np.percentile(user_artist_history[\"timestamp\"].values, 70))\n",
    "test_split_timestamp = int(np.percentile(user_artist_history[\"timestamp\"].values, 85))"
   ]
  },
  {
   "cell_type": "code",
   "execution_count": 19,
   "metadata": {},
   "outputs": [],
   "source": [
    "train_dataset = user_artist_history[user_artist_history[\"timestamp\"] <= val_split_timestamp].copy()\n",
    "val_dataset = user_artist_history[(user_artist_history[\"timestamp\"] > val_split_timestamp) & \\\n",
    "                                  (user_artist_history[\"timestamp\"] <= test_split_timestamp)].copy()\n",
    "test_dataset = user_artist_history[user_artist_history[\"timestamp\"] > test_split_timestamp].copy()\n",
    "\n",
    "train_dataset.drop(\"timestamp\", axis=1, inplace=True)\n",
    "val_dataset.drop(\"timestamp\", axis=1, inplace=True)\n",
    "test_dataset.drop(\"timestamp\", axis=1, inplace=True)"
   ]
  },
  {
   "cell_type": "code",
   "execution_count": 20,
   "metadata": {},
   "outputs": [],
   "source": [
    "train_dataset.drop_duplicates(inplace=True)\n",
    "val_dataset.drop_duplicates(inplace=True)\n",
    "test_dataset.drop_duplicates(inplace=True)\n",
    "\n",
    "train_dataset.reset_index(drop=True, inplace=True)\n",
    "val_dataset.reset_index(drop=True, inplace=True)\n",
    "test_dataset.reset_index(drop=True, inplace=True)"
   ]
  },
  {
   "cell_type": "markdown",
   "metadata": {},
   "source": [
    "## Negative sampling"
   ]
  },
  {
   "cell_type": "markdown",
   "metadata": {},
   "source": [
    "Количество негативных примеров поставил примерно в пять раз меньше чем позитивных"
   ]
  },
  {
   "cell_type": "code",
   "execution_count": 22,
   "metadata": {},
   "outputs": [],
   "source": [
    "NUM_NEGATIVES = 100"
   ]
  },
  {
   "cell_type": "code",
   "execution_count": 23,
   "metadata": {},
   "outputs": [],
   "source": [
    "n_artists = user_artist_history[\"artist_id\"].max() + 1\n",
    "artists_popularity = np.zeros(n_artists)\n",
    "popularity_power = 0.5  # -- sqrt of popularity sampling\n",
    "# popularity_power = 0.0 -- uniform sampling\n",
    "# popularity_power = 1.0 -- by popularity sampling\n",
    "\n",
    "\n",
    "for row in user_artist_history.groupby(\"artist_id\").count().itertuples():\n",
    "    artists_popularity[row.Index] = row.user_id\n",
    "artists_popularity = artists_popularity**popularity_power"
   ]
  },
  {
   "cell_type": "code",
   "execution_count": null,
   "metadata": {},
   "outputs": [
    {
     "name": "stderr",
     "output_type": "stream",
     "text": [
      "  0%|          | 32/38570 [00:13<4:16:59,  2.50it/s]"
     ]
    }
   ],
   "source": [
    "unique_artists = set(user_artist_history[\"artist_id\"].unique())\n",
    "negative_user_ids = []\n",
    "negative_atrist_ids = []\n",
    "for user_id, df in tqdm(train_dataset.groupby(\"user_id\")):\n",
    "    possible_artist_ids = unique_artists.difference(set(df[\"artist_id\"]))\n",
    "    possible_artists_popularity = np.array([artists_popularity[artist_id] for artist_id in possible_artist_ids])\n",
    "    possible_artists_popularity /= sum(possible_artists_popularity)\n",
    "    for negative_artist_id in np.random.choice(\n",
    "        list(possible_artist_ids), p=possible_artists_popularity,\n",
    "        size=NUM_NEGATIVES, replace=False):\n",
    "        negative_user_ids.append(user_id)\n",
    "        negative_atrist_ids.append(negative_artist_id)\n",
    "\n",
    "negatives_df = pd.DataFrame({\"user_id\": negative_user_ids, \"artist_id\": negative_atrist_ids})\n",
    "negatives_df[\"target\"] = [0 for _ in range(len(negatives_df))]\n",
    "train_dataset = pd.concat((train_dataset, negatives_df))"
   ]
  },
  {
   "cell_type": "code",
   "execution_count": 26,
   "metadata": {},
   "outputs": [
    {
     "name": "stderr",
     "output_type": "stream",
     "text": [
      "100%|██████████| 1767/1767 [08:42<00:00,  3.38it/s]\n"
     ]
    }
   ],
   "source": [
    "unique_artists = set(user_artist_history[\"artist_id\"].unique())\n",
    "negative_user_ids = []\n",
    "negative_atrist_ids = []\n",
    "for user_id, df in tqdm(val_dataset.groupby(\"user_id\")):\n",
    "    possible_artist_ids = unique_artists.difference(set(df[\"artist_id\"]))\n",
    "    possible_artists_popularity = np.array([artists_popularity[artist_id] for artist_id in possible_artist_ids])\n",
    "    possible_artists_popularity /= sum(possible_artists_popularity)\n",
    "    for negative_artist_id in np.random.choice(\n",
    "        list(possible_artist_ids), p=possible_artists_popularity,\n",
    "        size=NUM_NEGATIVES, replace=False):\n",
    "        negative_user_ids.append(user_id)\n",
    "        negative_atrist_ids.append(negative_artist_id)\n",
    "\n",
    "negatives_df = pd.DataFrame({\"user_id\": negative_user_ids, \"artist_id\": negative_atrist_ids})\n",
    "negatives_df[\"target\"] = [0 for _ in range(len(negatives_df))]\n",
    "val_dataset = pd.concat((val_dataset, negatives_df))"
   ]
  },
  {
   "cell_type": "code",
   "execution_count": 30,
   "metadata": {},
   "outputs": [],
   "source": [
    "train_dataset.to_csv(\"train_dataset.csv\", index=None)\n",
    "val_dataset.to_csv(\"val_dataset.csv\", index=None)\n",
    "test_dataset.to_csv(\"test_dataset.csv\", index=None)"
   ]
  },
  {
   "cell_type": "markdown",
   "metadata": {},
   "source": [
    "## Baseline: top artists recommendation"
   ]
  },
  {
   "cell_type": "markdown",
   "metadata": {},
   "source": [
    "Я выбрал целевой метрикой MAP@K с K = {10, 50, 100} так как она хорошо подходит для рекомендаций и ранжирования"
   ]
  },
  {
   "cell_type": "markdown",
   "metadata": {},
   "source": [
    "#### MAP@10"
   ]
  },
  {
   "cell_type": "code",
   "execution_count": 8,
   "metadata": {},
   "outputs": [],
   "source": [
    "def ap_at_k(relevant_ids, recommendation_artists, K):\n",
    "    ap = 0\n",
    "    cur_relevant = 0\n",
    "    for k, recommendation_artist_id in enumerate(recommendation_artists):\n",
    "        if recommendation_artist_id in relevant_ids:\n",
    "            cur_relevant += 1\n",
    "            ap += cur_relevant / (k + 1)\n",
    "\n",
    "    ap /= K\n",
    "    return ap"
   ]
  },
  {
   "cell_type": "code",
   "execution_count": 9,
   "metadata": {
    "scrolled": false
   },
   "outputs": [
    {
     "name": "stderr",
     "output_type": "stream",
     "text": [
      "100%|██████████| 1930/1930 [00:00<00:00, 6513.70it/s]"
     ]
    },
    {
     "name": "stdout",
     "output_type": "stream",
     "text": [
      "MAP@10 = 0.07647627271979604\n"
     ]
    },
    {
     "name": "stderr",
     "output_type": "stream",
     "text": [
      "\n"
     ]
    }
   ],
   "source": [
    "K = 10\n",
    "recommendation_artists = list(user_artist_history.groupby(\"artist_id\") \\\n",
    "    .count().sort_values(\"user_id\", ascending=False) \\\n",
    "    .head(K).index)\n",
    "\n",
    "map_ = []\n",
    "for user_id, df in tqdm(test_dataset.groupby(\"user_id\")):\n",
    "    map_.append(ap_at_k(set(df[\"artist_id\"].values), recommendation_artists, K))\n",
    "\n",
    "print(f\"MAP@{K} = {np.mean(map_)}\")"
   ]
  },
  {
   "cell_type": "code",
   "execution_count": 10,
   "metadata": {},
   "outputs": [
    {
     "name": "stderr",
     "output_type": "stream",
     "text": [
      "100%|██████████| 1930/1930 [00:00<00:00, 6511.54it/s]"
     ]
    },
    {
     "name": "stdout",
     "output_type": "stream",
     "text": [
      "MAP@50 = 0.03831183036354622\n"
     ]
    },
    {
     "name": "stderr",
     "output_type": "stream",
     "text": [
      "\n"
     ]
    }
   ],
   "source": [
    "K = 50\n",
    "recommendation_artists = list(user_artist_history.groupby(\"artist_id\") \\\n",
    "    .count().sort_values(\"user_id\", ascending=False) \\\n",
    "    .head(K).index)\n",
    "\n",
    "map_ = []\n",
    "for user_id, df in tqdm(test_dataset.groupby(\"user_id\")):\n",
    "    map_.append(ap_at_k(set(df[\"artist_id\"].values), recommendation_artists, K))\n",
    "\n",
    "print(f\"MAP@{K} = {np.mean(map_)}\")"
   ]
  },
  {
   "cell_type": "code",
   "execution_count": 11,
   "metadata": {},
   "outputs": [
    {
     "name": "stderr",
     "output_type": "stream",
     "text": [
      "100%|██████████| 1930/1930 [00:00<00:00, 6196.59it/s]"
     ]
    },
    {
     "name": "stdout",
     "output_type": "stream",
     "text": [
      "MAP@100 = 0.028177431434001764\n"
     ]
    },
    {
     "name": "stderr",
     "output_type": "stream",
     "text": [
      "\n"
     ]
    }
   ],
   "source": [
    "K = 100\n",
    "recommendation_artists = list(user_artist_history.groupby(\"artist_id\") \\\n",
    "    .count().sort_values(\"user_id\", ascending=False) \\\n",
    "    .head(K).index)\n",
    "\n",
    "map_ = []\n",
    "for user_id, df in tqdm(test_dataset.groupby(\"user_id\")):\n",
    "    map_.append(ap_at_k(set(df[\"artist_id\"].values), recommendation_artists, K))\n",
    "\n",
    "print(f\"MAP@{K} = {np.mean(map_)}\")"
   ]
  },
  {
   "cell_type": "code",
   "execution_count": 7,
   "metadata": {},
   "outputs": [],
   "source": [
    "train_dataset = pd.read_csv(\"train_dataset.csv\")\n",
    "val_dataset = pd.read_csv(\"val_dataset.csv\")\n",
    "test_dataset = pd.read_csv(\"test_dataset.csv\")\n",
    "user_artist_history = pd.read_csv(\"user_artist_history.csv\")"
   ]
  },
  {
   "cell_type": "markdown",
   "metadata": {},
   "source": [
    "## Embedding model"
   ]
  },
  {
   "cell_type": "code",
   "execution_count": 33,
   "metadata": {},
   "outputs": [],
   "source": [
    "import torch\n",
    "import torch.nn as nn\n",
    "import torch.nn.functional as F\n",
    "from torch.utils.data import DataLoader, TensorDataset\n",
    "\n",
    "SEED = 42\n",
    "N_EPOCHS = 10\n",
    "VAL_ITERS = 20\n",
    "BATCH_SIZE = 8049\n",
    "EMBEDDING_DIM = 256"
   ]
  },
  {
   "cell_type": "code",
   "execution_count": 34,
   "metadata": {},
   "outputs": [],
   "source": [
    "class EmbeddingModel(nn.Module):\n",
    "    def __init__(self, n_users, n_artists, embedding_dim=256):\n",
    "        super(EmbeddingModel, self).__init__()\n",
    "        self.user_embedding = nn.Embedding(n_users, embedding_dim)\n",
    "        self.artist_embedding = nn.Embedding(n_artists, embedding_dim)\n",
    "        \n",
    "    def forward(self, users, artists):\n",
    "        user_emb = self.artist_embedding(users)\n",
    "        artist_emb = self.artist_embedding(artists)\n",
    "        return user_emb, artist_emb\n",
    "\n",
    "def get_val_loss(emb_model, val_dataloader, criterion, device):\n",
    "    with torch.no_grad():\n",
    "        losses = []\n",
    "        for user_artist, target in tqdm(val_dataloader):\n",
    "            users, artists = user_artist[:, 0], user_artist[:, 1]\n",
    "            user_emb, artist_emb = emb_model(users.to(device), artists.to(device))\n",
    "            losses.append(criterion(user_emb, artist_emb, target.to(device)).item())\n",
    "        return np.mean(losses)"
   ]
  },
  {
   "cell_type": "code",
   "execution_count": 35,
   "metadata": {},
   "outputs": [],
   "source": [
    "# train dataloader\n",
    "user_artist_history_train_dataset = torch.tensor(train_dataset.loc[:, [\"user_id\", \"artist_id\"]].values).long()\n",
    "user_artist_history_train_target = torch.tensor(train_dataset.loc[:, [\"target\"]].values).float()\n",
    "\n",
    "user_artist_train_dataset = TensorDataset(user_artist_history_train_dataset, user_artist_history_train_target)\n",
    "user_artist_train_dataloader = DataLoader(user_artist_train_dataset, batch_size=BATCH_SIZE, shuffle=True)\n",
    "\n",
    "# val_dataset\n",
    "user_artist_history_val_dataset = torch.tensor(val_dataset.loc[:, [\"user_id\", \"artist_id\"]].values).long()\n",
    "user_artist_history_val_target = torch.tensor(val_dataset.loc[:, [\"target\"]].values).float()\n",
    "\n",
    "user_artist_val_dataset = TensorDataset(user_artist_history_val_dataset, user_artist_history_val_target)\n",
    "user_artist_val_dataloader = DataLoader(user_artist_val_dataset, batch_size=BATCH_SIZE, shuffle=False)\n",
    "\n",
    "# test_dataset\n",
    "user_artist_history_test_dataset = torch.tensor(test_dataset.loc[:, [\"user_id\", \"artist_id\"]].values).long()\n",
    "user_artist_history_test_target = torch.tensor(test_dataset.loc[:, [\"target\"]].values).float()\n",
    "\n",
    "user_artist_test_dataset = TensorDataset(user_artist_history_test_dataset, user_artist_history_test_target)\n",
    "user_artist_test_dataloader = DataLoader(user_artist_test_dataset, batch_size=BATCH_SIZE, shuffle=False)"
   ]
  },
  {
   "cell_type": "code",
   "execution_count": 36,
   "metadata": {
    "scrolled": true
   },
   "outputs": [],
   "source": [
    "n_users = user_artist_history[\"user_id\"].max() + 1\n",
    "n_artists = user_artist_history[\"artist_id\"].max() + 1\n",
    "\n",
    "device = 'cuda' if torch.cuda.is_available() else 'cpu'\n",
    "emb_model = EmbeddingModel(n_users, n_artists, embedding_dim=EMBEDDING_DIM).to(device)\n",
    "\n",
    "criterion = nn.CosineEmbeddingLoss()\n",
    "optimizer = torch.optim.RMSprop(emb_model.parameters(), lr=1e-2)\n",
    "scheduler = torch.optim.lr_scheduler.CosineAnnealingLR(optimizer, N_EPOCHS * len(user_artist_train_dataloader))"
   ]
  },
  {
   "cell_type": "markdown",
   "metadata": {},
   "source": [
    "Тут я использую CosineAnnealingLR шедулер и оптимизатор RMSprop, так как они хорошо справляются с задачей"
   ]
  },
  {
   "cell_type": "code",
   "execution_count": 37,
   "metadata": {},
   "outputs": [
    {
     "data": {
      "image/png": "[encoded data removed]",
      "text/plain": [
       "<Figure size 720x432 with 1 Axes>"
      ]
     },
     "metadata": {
      "needs_background": "light"
     },
     "output_type": "display_data"
    }
   ],
   "source": [
    "train_losses = []\n",
    "val_losses = []\n",
    "\n",
    "for epoch in range(N_EPOCHS):\n",
    "    for iter_num, (user_artist, target) in enumerate(user_artist_train_dataloader):\n",
    "        if iter_num % VAL_ITERS == 0:\n",
    "                    \n",
    "            val_losses.append((\n",
    "                len(train_losses),\n",
    "                get_val_loss(emb_model, user_artist_val_dataloader, criterion, device)))\n",
    "            if len(val_losses) == 1 or val_losses[-1][1] < val_losses[-2][1]:\n",
    "                torch.save(emb_model, \"emb_model.pth\")\n",
    "                \n",
    "        users, artists = user_artist[:, 0], user_artist[:, 1]\n",
    "        user_emb, artist_emb = emb_model(users.to(device), artists.to(device))\n",
    "        loss = criterion(user_emb, artist_emb, target.to(device))\n",
    "        train_losses.append(loss.item())\n",
    "        \n",
    "        optimizer.zero_grad()\n",
    "        loss.backward()\n",
    "        optimizer.step()\n",
    "        scheduler.step()\n",
    "        torch.cuda.empty_cache()\n",
    "        \n",
    "        clear_output(True)\n",
    "        plt.figure(figsize=[10, 6])\n",
    "        plt.plot(train_losses, label=\"train loss\")\n",
    "        plt.plot(*zip(*val_losses), label=\"val_loss\")\n",
    "        plt.xlabel(\"iteration\", fontsize=14)\n",
    "        plt.ylabel(\"loss\", fontsize=14)\n",
    "        plt.legend()\n",
    "        plt.show()"
   ]
  },
  {
   "cell_type": "markdown",
   "metadata": {},
   "source": [
    "### Eval embedding model"
   ]
  },
  {
   "cell_type": "code",
   "execution_count": 38,
   "metadata": {},
   "outputs": [],
   "source": [
    "# Load best on validation model\n",
    "emb_model = torch.load(\"emb_model.pth\").to(device)"
   ]
  },
  {
   "cell_type": "code",
   "execution_count": 41,
   "metadata": {},
   "outputs": [],
   "source": [
    "artist_embeddings = emb_model.artist_embedding.weight.data.numpy().copy()\n",
    "user_embeddings = emb_model.user_embedding.weight.data.numpy().copy()\n",
    "\n",
    "artist_embeddings /= np.sqrt(np.sum(artist_embeddings**2, axis=1, keepdims=True))\n",
    "user_embeddings /= np.sqrt(np.sum(user_embeddings**2, axis=1, keepdims=True))"
   ]
  },
  {
   "cell_type": "code",
   "execution_count": 42,
   "metadata": {
    "scrolled": true
   },
   "outputs": [
    {
     "name": "stderr",
     "output_type": "stream",
     "text": [
      "100%|██████████| 1767/1767 [03:09<00:00,  9.31it/s]"
     ]
    },
    {
     "name": "stdout",
     "output_type": "stream",
     "text": [
      "MAP@10 = 3.8671948688926614e-05\n"
     ]
    },
    {
     "name": "stderr",
     "output_type": "stream",
     "text": [
      "\n"
     ]
    }
   ],
   "source": [
    "K = 10\n",
    "\n",
    "map_ = []\n",
    "for user_id, df in tqdm(val_dataset.groupby(\"user_id\")):\n",
    "    user_artist_distances = np.dot(artist_embeddings, user_embeddings[user_id])\n",
    "    recommendation_artists = np.argsort(user_artist_distances)[::-1][:K]\n",
    "    map_.append(ap_at_k(set(df[\"artist_id\"].values), recommendation_artists, K))\n",
    "    \n",
    "print(f\"MAP@{K} = {np.mean(map_)}\")"
   ]
  },
  {
   "cell_type": "code",
   "execution_count": 43,
   "metadata": {},
   "outputs": [
    {
     "name": "stderr",
     "output_type": "stream",
     "text": [
      "100%|██████████| 1767/1767 [03:12<00:00,  9.17it/s]"
     ]
    },
    {
     "name": "stdout",
     "output_type": "stream",
     "text": [
      "MAP@100 = 5.847047545373302e-06\n"
     ]
    },
    {
     "name": "stderr",
     "output_type": "stream",
     "text": [
      "\n"
     ]
    }
   ],
   "source": [
    "K = 100\n",
    "\n",
    "map_ = []\n",
    "for user_id, df in tqdm(val_dataset.groupby(\"user_id\")):\n",
    "    user_artist_distances = np.dot(artist_embeddings, user_embeddings[user_id])\n",
    "    recommendation_artists = np.argsort(user_artist_distances)[::-1][:K]\n",
    "    map_.append(ap_at_k(set(df[\"artist_id\"].values), recommendation_artists, K))\n",
    "    \n",
    "print(f\"MAP@{K} = {np.mean(map_)}\")"
   ]
  },
  {
   "cell_type": "markdown",
   "metadata": {},
   "source": [
    "### Some nearest neighbours"
   ]
  },
  {
   "cell_type": "code",
   "execution_count": 68,
   "metadata": {},
   "outputs": [
    {
     "name": "stdout",
     "output_type": "stream",
     "text": [
      "Neighbours of Pink Floyd & Floyd:\n",
      "----------\n",
      "1) Led Zepplin\n",
      "2) The Doors\n",
      "3) Jimmy Hendrix\n",
      "4) Rolling Stones\n",
      "5) Johnny Cash & June Carter Cash\n",
      "6) The Beatles & George Martin\n",
      "7) Bowie\n",
      "8) Nirvana-in utero\n",
      "9) R.E.M.\n",
      "10) Dave Grohl%2FQueens of the Stone Age\n",
      "11) The Who & David Gilmour\n",
      "12) Bob Dylan & Tom Petty\n",
      "13) Creedence Clearwater Revival\n",
      "14) The Cure & the Cause (Acoustic Version)\n",
      "\n",
      "\n",
      "Neighbours of Lana Del Rey:\n",
      "----------\n",
      "1) Coldplay & Kylie Minogue\n",
      "2) Lorde & Katy Perry\n",
      "3) Foster the People\n",
      "4) Florence %252B the Machine\n",
      "5) Sia & Beck\n",
      "6) The Killers Feat. Elton John & Neil Tennant\n",
      "7) Arctic Monekys\n",
      "8) Kings of Leon\n",
      "9) lykkeli\n",
      "10) Daft Punk & Sander Kleinenberg\n",
      "11) La Roux\n",
      "12) Of Monsters and Men\n",
      "13) Gotye\n",
      "14) Capital Cities\n",
      "\n",
      "\n",
      "Neighbours of Arctic Monekys:\n",
      "----------\n",
      "1) Kings of Leon\n",
      "2) Franz Ferdinand & Jane Birkin\n",
      "3) Yeah Yeah Yeahs\n",
      "4) The Killers Feat. Elton John & Neil Tennant\n",
      "5) Coldplay & Kylie Minogue\n",
      "6) The Kooks\n",
      "7) Of Monsters and Men\n",
      "8) Oasis\n",
      "9) MGMT\n",
      "10) Lana Del Rey\n",
      "11) The Black Keys\n",
      "12) Phoenix\n",
      "13) Foster the People\n",
      "14) Kaiser Chiefs\n",
      "\n",
      "\n",
      "Neighbours of The Beatles & George Martin:\n",
      "----------\n",
      "1) Rolling Stones\n",
      "2) Bowie\n",
      "3) White Stripes\n",
      "4) Johnny Cash & June Carter Cash\n",
      "5) Nirvana-in utero\n",
      "6) RadioheadNCON\n",
      "7) R.E.M.\n",
      "8) Bob Dylan & Tom Petty\n",
      "9) Led Zepplin\n",
      "10) The Cure & the Cause (Acoustic Version)\n",
      "11) Jimmy Hendrix\n",
      "12) The Doors\n",
      "13) Blur & Offspring\n",
      "14) The Who & David Gilmour\n",
      "\n",
      "\n",
      "Neighbours of RadioheadNCON:\n",
      "----------\n",
      "1) Blur & Offspring\n",
      "2) White Stripes\n",
      "3) Bowie\n",
      "4) The Cure & the Cause (Acoustic Version)\n",
      "5) Arcade Fire\n",
      "6) Beck & Jack White\n",
      "7) Sandie Shaw and The Smiths\n",
      "8) The Black Keys\n",
      "9) The Smashing Pumpkins\n",
      "10) The Pixes\n",
      "11) Portishead & DJ Shadow\n",
      "12) Massive Attack\n",
      "13) Nirvana-in utero\n",
      "14) Depehce Mode\n",
      "\n",
      "\n",
      "Neighbours of Coldplay & Kylie Minogue:\n",
      "----------\n",
      "1) Lana Del Rey\n",
      "2) The Killers Feat. Elton John & Neil Tennant\n",
      "3) Arctic Monekys\n",
      "4) Kings of Leon\n",
      "5) Foster the People\n",
      "6) Florence %252B the Machine\n",
      "7) Lorde & Katy Perry\n",
      "8) Pharrell Williams\n",
      "9) Of Monsters and Men\n",
      "10) Gotye\n",
      "11) Daft Punk & Sander Kleinenberg\n",
      "12) Snow Patrol\n",
      "13) The Kooks\n",
      "14) Keane\n",
      "\n",
      "\n",
      "Neighbours of Arcade Fire:\n",
      "----------\n",
      "1) MGMT\n",
      "2) Interpol\n",
      "3) Vampire Weekend\n",
      "4) Yeah Yeah Yeahs\n",
      "5) Beck & Jack White\n",
      "6) National, The\n",
      "7) RadioheadNCON\n",
      "8) The Black Keys\n",
      "9) Phoenix\n",
      "10) BonIver\n",
      "11) The xx\n",
      "12) Tame Impala & Kendrick Lamar\n",
      "13) The Shins\n",
      "14) Grizzly Bear\n",
      "\n",
      "\n",
      "Neighbours of Bowie:\n",
      "----------\n",
      "1) The Cure & the Cause (Acoustic Version)\n",
      "2) RadioheadNCON\n",
      "3) Bob Dylan & Tom Petty\n",
      "4) Sandie Shaw and The Smiths\n",
      "5) Rolling Stones\n",
      "6) Blur & Offspring\n",
      "7) Beck & Jack White\n",
      "8) The Pixes\n",
      "9) R.E.M.\n",
      "10) White Stripes\n",
      "11) Johnny Cash & June Carter Cash\n",
      "12) Talking Heads\n",
      "13) The Smashing Pumpkins\n",
      "14) The Beatles & George Martin\n",
      "\n",
      "\n",
      "Neighbours of Ed Sheeran & Peter Jackson:\n",
      "----------\n",
      "1) Ellie Goulding & DJ Fresh\n",
      "2) Imagine Dragons & Marina And The Diamonds (Mashup)\n",
      "3) Lorde & Katy Perry\n",
      "4) Capital Cities\n",
      "5) Bastille & Gabrielle Aplin\n",
      "6) Birdy & Jaymes Young\n",
      "7) Coldplay & Kylie Minogue\n",
      "8) Sia & Beck\n",
      "9) Sam Smith\n",
      "10) Lana Del Rey\n",
      "11) Pharrell Williams\n",
      "12) Of Monsters and Men\n",
      "13) Justin Timberlake feat. Bubba Sparxxx\n",
      "14) Lily Allen\n",
      "\n",
      "\n",
      "Neighbours of Taylor Swift & Def Leppard:\n",
      "----------\n",
      "1) Katy Perry Ft Juicy J\n",
      "2) Shakira & Alejandro Sanz -\n",
      "3) Miley Cyrus & Cobra Startship\n",
      "4) Bruno Mars & Damian Marley\n",
      "5) Britney Spears%2FStockholm Session Strings\n",
      "6) Iggy Azalea ft. Charli XCX\n",
      "7) One Direction\n",
      "8) Jason Derulo\n",
      "9) Sara Bareilles\n",
      "10) Rihana\n",
      "11) Ariana Grande\n",
      "12) Pink\n",
      "13) Maroon 5 Ft. Rihanna\n",
      "14) Beyonc%3F\n",
      "\n",
      "\n",
      "Neighbours of Led Zepplin:\n",
      "----------\n",
      "1) Pink Floyd & Floyd\n",
      "2) Jimmy Hendrix\n",
      "3) The Doors\n",
      "4) Rolling Stones\n",
      "5) The Beatles & George Martin\n",
      "6) Johnny Cash & June Carter Cash\n",
      "7) Creedence Clearwater Revival\n",
      "8) The Who & David Gilmour\n",
      "9) Nirvana-in utero\n",
      "10) Pearl Jam\n",
      "11) R.E.M.\n",
      "12) Queen & The Muppets\n",
      "13) Bowie\n",
      "14) The Cure & the Cause (Acoustic Version)\n",
      "\n",
      "\n",
      "Neighbours of Metallica, Michael Kamen & San Francisco Symphony:\n",
      "----------\n",
      "1) Guns 'N' Roses\n",
      "2) AC-DC\n",
      "3) S.O.A.D & Wu-Tang Clan\n",
      "4) Ozzy Osborne\n",
      "5) Korn%2FNas\n",
      "6) Iron Maiden & Dream Theater\n",
      "7) Pearl Jam\n",
      "8) Marilyn Manson & Sneaker Pimps\n",
      "9) Soundgarden\n",
      "10) Rage Against the Machine\n",
      "11) Kiss\n",
      "12) Black Sabbath & Junkie XL\n",
      "13) Red Hot Chili Peppers -\n",
      "14) Aerosmith\n",
      "\n",
      "\n",
      "Neighbours of Rolling Stones:\n",
      "----------\n",
      "1) Bowie\n",
      "2) The Beatles & George Martin\n",
      "3) Johnny Cash & June Carter Cash\n",
      "4) R.E.M.\n",
      "5) Elvis Presley & Martina McBride\n",
      "6) Bruce Springsteen & The E Street Band with Tom Morello\n",
      "7) Bob Dylan & Tom Petty\n",
      "8) Jimmy Hendrix\n",
      "9) The Who & David Gilmour\n",
      "10) Led Zepplin\n",
      "11) The Police & Henry Mancini\n",
      "12) The Doors\n",
      "13) White Stripes\n",
      "14) Kinks\n",
      "\n",
      "\n",
      "Neighbours of Daft Punk & Sander Kleinenberg:\n",
      "----------\n",
      "1) Gorillaz feat. Bobby Womack & sinfonia ViVA\n",
      "2) Yeah Yeah Yeahs\n",
      "3) The xx\n",
      "4) Moby & Darth & Vader\n",
      "5) MGMT\n",
      "6) Coldplay & Kylie Minogue\n",
      "7) M83\n",
      "8) Lana Del Rey\n",
      "9) RadioheadNCON\n",
      "10) Arctic Monekys\n",
      "11) Arcade Fire\n",
      "12) The Black Keys\n",
      "13) Phoenix\n",
      "14) Franz Ferdinand & Jane Birkin\n",
      "\n",
      "\n",
      "Neighbours of Queen & The Muppets:\n",
      "----------\n",
      "1) U2 & Bob Dylan\n",
      "2) R.E.M.\n",
      "3) Foo Figthers\n",
      "4) Red Hot Chili Peppers -\n",
      "5) Aerosmith\n",
      "6) Nirvana-in utero\n",
      "7) Muse - Absolution\n",
      "8) Rolling Stones\n",
      "9) Oasis\n",
      "10) The Police & Henry Mancini\n",
      "11) Cranberries\n",
      "12) White Stripes\n",
      "13) Pearl Jam\n",
      "14) Led Zepplin\n",
      "\n",
      "\n",
      "Neighbours of National, The:\n",
      "----------\n",
      "1) Arcade Fire\n",
      "2) Interpol\n",
      "3) Vampire Weekend\n",
      "4) Beck & Jack White\n",
      "5) The Black Keys\n",
      "6) BonIver\n",
      "7) The Shins\n",
      "8) MGMT\n",
      "9) IRON\n",
      "10) Spoon\n",
      "11) Yeah Yeah Yeahs\n",
      "12) Broken Bells\n",
      "13) Alt-J %E2%88%86\n",
      "14) Fleet Foxes\n",
      "\n",
      "\n",
      "Neighbours of Scorpions - Moment Of Glory:\n",
      "----------\n",
      "1) Guns 'N' Roses\n",
      "2) Bon Jovi\n",
      "3) AC-DC\n",
      "4) Aerosmith\n",
      "5) Metallica, Michael Kamen & San Francisco Symphony\n",
      "6) S.O.A.D & Wu-Tang Clan\n",
      "7) Kiss\n",
      "8) Ozzy Osborne\n",
      "9) Pearl Jam\n",
      "10) Queen & The Muppets\n",
      "11) Journey\n",
      "12) Lynyrd Skynyrd\n",
      "13) Iron Maiden & Dream Theater\n",
      "14) Deep Purple & KISS\n",
      "\n",
      "\n",
      "Neighbours of Linkin Park & Jay-Z (Live Clean):\n",
      "----------\n",
      "1) 30STM & Nearq\n",
      "2) Fall Out Boy feat. Elton John\n",
      "3) Offspring\n",
      "4) Sum 41\n",
      "5) Evanescence & The Los Angeles Millenium Choir\n",
      "6) Green Day\n",
      "7) Blink 182 & Sum 41\n",
      "8) Korn%2FNas\n",
      "9) S.O.A.D & Wu-Tang Clan\n",
      "10) Muse - Absolution\n",
      "11) Rise Against\n",
      "12) Paramore\n",
      "13) Papa Roach\n",
      "14) Limp Bizkit\n",
      "\n",
      "\n",
      "Neighbours of The Black Keys:\n",
      "----------\n",
      "1) Yeah Yeah Yeahs\n",
      "2) Arcade Fire\n",
      "3) White Stripes\n",
      "4) MGMT\n",
      "5) Franz Ferdinand & Jane Birkin\n",
      "6) Beck & Jack White\n",
      "7) RadioheadNCON\n",
      "8) Phoenix\n",
      "9) Alt-J %E2%88%86\n",
      "10) Arctic Monekys\n",
      "11) Vampire Weekend\n",
      "12) National, The\n",
      "13) Interpol\n",
      "14) Blur & Offspring\n",
      "\n",
      "\n",
      "Neighbours of Nine Inch Nails & David Bowie:\n",
      "----------\n",
      "1) Depehce Mode\n",
      "2) Nirvana-in utero\n",
      "3) Dave Grohl%2FQueens of the Stone Age\n",
      "4) RadioheadNCON\n",
      "5) The Prodigy & Tom Morello\n",
      "6) The Smashing Pumpkins\n",
      "7) Red Hot Chili Peppers -\n",
      "8) White Stripes\n",
      "9) Foo Figthers\n",
      "10) The Cure & the Cause (Acoustic Version)\n",
      "11) Placebo\n",
      "12) Pearl Jam\n",
      "13) Muse - Absolution\n",
      "14) Bowie\n",
      "\n",
      "\n"
     ]
    }
   ],
   "source": [
    "anchor_artists = [\n",
    "    276125, 192147,  29427,  42398, 286091,  82955,  29145,  56683,\n",
    "    134178, 345237, 195697, 228054, 299571, 415063, 124222, 246465,\n",
    "    310487, 201108,  50474, 252583\n",
    "]\n",
    "\n",
    "for anchor_artist_id in anchor_artists:\n",
    "    distances = np.dot(artist_embeddings, artist_embeddings[anchor_artist_id])\n",
    "    for ind, artist_id in enumerate(np.argsort(distances)[::-1][:15]):\n",
    "        try:\n",
    "            name = json.loads(persons_df[persons_df[\"ID\"] == artist_id][\"properties\"].values[0])[\"name\"]\n",
    "            name = name.replace('+', ' ').replace(\"%27\", \"\\'\")\n",
    "            if ind == 0:\n",
    "                print(f\"Neighbours of {name}:\")\n",
    "                print(\"-\"*10)\n",
    "            else:\n",
    "                print(f\"{ind}) {name}\")\n",
    "        except:\n",
    "            pass\n",
    "        \n",
    "    print(\"\\n\")"
   ]
  },
  {
   "cell_type": "markdown",
   "metadata": {},
   "source": [
    "## Saving to tensorboard"
   ]
  },
  {
   "cell_type": "markdown",
   "metadata": {},
   "source": [
    "Полученные эмбеддинги можно экспортировать в tensorboard и удобно просматривать"
   ]
  },
  {
   "cell_type": "code",
   "execution_count": 73,
   "metadata": {},
   "outputs": [],
   "source": [
    "import tensorflow as tf\n",
    "from tensorboard.plugins import projector"
   ]
  },
  {
   "cell_type": "code",
   "execution_count": 140,
   "metadata": {},
   "outputs": [],
   "source": [
    "artist_ids = list(user_artist_history.groupby(\"artist_id\") \\\n",
    "                  .count().sort_values(\"user_id\", ascending=False) \\\n",
    "                  .head(1000).index)"
   ]
  },
  {
   "cell_type": "code",
   "execution_count": 141,
   "metadata": {},
   "outputs": [],
   "source": [
    "cur_persons_df = persons_df.set_index('ID').loc[artist_ids].reset_index().groupby(\"ID\").head(1)\n",
    "person_names = [json.loads(row)[\"name\"].replace(\"+\", \" \").replace(\"%27\", \"\\'\") for row in cur_persons_df[\"properties\"]]\n"
   ]
  },
  {
   "cell_type": "code",
   "execution_count": 142,
   "metadata": {},
   "outputs": [],
   "source": [
    "log_dir = \"./logs\"\n",
    "if not os.path.exists(log_dir):\n",
    "    os.makedirs(log_dir)\n",
    "    \n",
    "with open(os.path.join(log_dir, \"metadata.tsv\"), \"w\") as f:\n",
    "    for name in person_names:\n",
    "        f.write(f\"{name}\\n\")"
   ]
  },
  {
   "cell_type": "code",
   "execution_count": 143,
   "metadata": {},
   "outputs": [
    {
     "data": {
      "text/plain": [
       "'./logs/embedding.ckpt-1'"
      ]
     },
     "execution_count": 143,
     "metadata": {},
     "output_type": "execute_result"
    }
   ],
   "source": [
    "weights = tf.Variable(artist_embeddings[artist_ids])\n",
    "checkpoint = tf.train.Checkpoint(embedding=weights)\n",
    "checkpoint.save(os.path.join(log_dir, \"embedding.ckpt\"))"
   ]
  },
  {
   "cell_type": "code",
   "execution_count": 144,
   "metadata": {},
   "outputs": [],
   "source": [
    "config = projector.ProjectorConfig()\n",
    "embedding = config.embeddings.add()\n",
    "\n",
    "embedding.tensor_name = \"embedding/.ATTRIBUTES/VARIABLE_VALUE\"\n",
    "embedding.metadata_path = \"metadata.tsv\"\n",
    "projector.visualize_embeddings(log_dir, config)"
   ]
  },
  {
   "cell_type": "markdown",
   "metadata": {},
   "source": [
    "## Выводы и TODO"
   ]
  },
  {
   "cell_type": "markdown",
   "metadata": {},
   "source": [
    "Эмбеддинги, кажется выглядят неплохо, но метрики ранжирования только по близости вектора пользователя и айтема не побеждают простой бейзлайн. Также обнаружил что в persons_df почему то нет российских исполнителей. И возможно эмбеддинги для пользователей получились неправильные, но я не успел это отдебажить.\n",
    "\n",
    "Я не успел попробовать добавить дополнительных данных из датасета, например в сессиях можно было бы использовать playtime и делать из коротких взаимодействий негативы/убирать как невалидные. Так же не использовал статические фичи\n",
    "\n",
    "А также неплохо было бы сделать отдельную ранжирующую модель для оптимизации целевой метрики"
   ]
  }
 ],
 "metadata": {
  "kernelspec": {
   "display_name": "Python 3",
   "language": "python",
   "name": "python3"
  },
  "language_info": {
   "codemirror_mode": {
    "name": "ipython",
    "version": 3
   },
   "file_extension": ".py",
   "mimetype": "text/x-python",
   "name": "python",
   "nbconvert_exporter": "python",
   "pygments_lexer": "ipython3",
   "version": "3.8.3"
  }
 },
 "nbformat": 4,
 "nbformat_minor": 4
}
